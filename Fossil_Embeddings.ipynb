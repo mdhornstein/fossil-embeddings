{
  "nbformat": 4,
  "nbformat_minor": 0,
  "metadata": {
    "colab": {
      "provenance": [],
      "authorship_tag": "ABX9TyPSrqEEOEqJB3wDT0ylV/tG",
      "include_colab_link": true
    },
    "kernelspec": {
      "name": "python3",
      "display_name": "Python 3"
    },
    "language_info": {
      "name": "python"
    }
  },
  "cells": [
    {
      "cell_type": "markdown",
      "metadata": {
        "id": "view-in-github",
        "colab_type": "text"
      },
      "source": [
        "<a href=\"https://colab.research.google.com/github/mdhornstein/fossil-embeddings/blob/main/Fossil_Embeddings.ipynb\" target=\"_parent\"><img src=\"https://colab.research.google.com/assets/colab-badge.svg\" alt=\"Open In Colab\"/></a>"
      ]
    },
    {
      "cell_type": "code",
      "source": [
        "import os\n",
        "from IPython.display import display, Image, clear_output"
      ],
      "metadata": {
        "id": "_s66CUzwbSOS"
      },
      "execution_count": null,
      "outputs": []
    },
    {
      "cell_type": "code",
      "execution_count": null,
      "metadata": {
        "colab": {
          "base_uri": "https://localhost:8080/"
        },
        "id": "oozb7IOHX8DE",
        "outputId": "5740b84a-2c62-4362-8c6c-fd3b13a81af6"
      },
      "outputs": [
        {
          "output_type": "stream",
          "name": "stdout",
          "text": [
            "Reading package lists... Done\n",
            "Building dependency tree... Done\n",
            "Reading state information... Done\n",
            "unzip is already the newest version (6.0-26ubuntu3.2).\n",
            "wget is already the newest version (1.21.2-2ubuntu1.1).\n",
            "0 upgraded, 0 newly installed, 0 to remove and 35 not upgraded.\n"
          ]
        }
      ],
      "source": [
        "# Install wget and unzip if they aren't already available\n",
        "!apt-get install wget unzip"
      ]
    },
    {
      "cell_type": "code",
      "source": [
        "# Download the reduced-FID dataset (approx. 1.8 GB)\n",
        "!wget https://zenodo.org/records/6333970/files/reduced-FID.zip"
      ],
      "metadata": {
        "colab": {
          "base_uri": "https://localhost:8080/"
        },
        "id": "Rxm_2s6jZaRQ",
        "outputId": "72b5e0c8-d24b-4db2-a652-f78930fab2d5"
      },
      "execution_count": null,
      "outputs": [
        {
          "output_type": "stream",
          "name": "stdout",
          "text": [
            "--2025-08-23 19:26:53--  https://zenodo.org/records/6333970/files/reduced-FID.zip\n",
            "Resolving zenodo.org (zenodo.org)... 188.185.45.92, 188.185.43.25, 188.185.48.194, ...\n",
            "Connecting to zenodo.org (zenodo.org)|188.185.45.92|:443... connected.\n",
            "HTTP request sent, awaiting response... 200 OK\n",
            "Length: 1819654497 (1.7G) [application/octet-stream]\n",
            "Saving to: ‘reduced-FID.zip’\n",
            "\n",
            "reduced-FID.zip     100%[===================>]   1.69G  22.7MB/s    in 64s     \n",
            "\n",
            "2025-08-23 19:27:58 (27.1 MB/s) - ‘reduced-FID.zip’ saved [1819654497/1819654497]\n",
            "\n"
          ]
        }
      ]
    },
    {
      "cell_type": "code",
      "source": [
        "!unzip -q reduced-FID.zip"
      ],
      "metadata": {
        "colab": {
          "base_uri": "https://localhost:8080/"
        },
        "id": "udxxlm_vZ5Yl"
      },
      "execution_count": null,
      "outputs": []
    },
    {
      "cell_type": "code",
      "source": [
        "!ls"
      ],
      "metadata": {
        "colab": {
          "base_uri": "https://localhost:8080/"
        },
        "id": "czVXZdt8Z1O9",
        "outputId": "160034cb-c3ef-4a39-f123-749ac1779330"
      },
      "execution_count": null,
      "outputs": [
        {
          "output_type": "stream",
          "name": "stdout",
          "text": [
            "reduced-FID  reduced-FID.zip  sample_data\n"
          ]
        }
      ]
    },
    {
      "cell_type": "code",
      "source": [
        "# Verify the folder structure. You should see a folder named 'reduced-FID'.\n",
        "# The images are organized into subfolders by clade (e.g., reduced-FID/Agnatha, reduced-FID/Amphibia)\n",
        "!ls -l reduced-FID"
      ],
      "metadata": {
        "colab": {
          "base_uri": "https://localhost:8080/"
        },
        "id": "DTCXL4qoZeeB",
        "outputId": "ae8c0d21-a2db-4294-c33a-b35b4a346690"
      },
      "execution_count": null,
      "outputs": [
        {
          "output_type": "stream",
          "name": "stdout",
          "text": [
            "total 4020\n",
            "drwxr-xr-x 2 root root  94208 Jan  4  2022  agnatha\n",
            "drwxr-xr-x 2 root root  81920 Jan  4  2022  ammonoid\n",
            "drwxr-xr-x 2 root root  81920 Jan  4  2022  amphibian\n",
            "drwxr-xr-x 2 root root  69632 Jan  4  2022  angiosperm\n",
            "drwxr-xr-x 2 root root  81920 Jan  4  2022  avialae\n",
            "drwxr-xr-x 2 root root  94208 Jan  4  2022  belemnite\n",
            "drwxr-xr-x 2 root root  69632 Jan  4  2022  bivalve\n",
            "drwxr-xr-x 2 root root  86016 Jan  4  2022  blastoid\n",
            "drwxr-xr-x 2 root root  69632 Jan  4  2022  bone_fragment\n",
            "drwxr-xr-x 2 root root  69632 Jan  4  2022  brachiopod\n",
            "drwxr-xr-x 2 root root  73728 Jan  4  2022  bryozoan\n",
            "drwxr-xr-x 2 root root  77824 Jan  4  2022  chelicerate\n",
            "drwxr-xr-x 2 root root  73728 Jan  4  2022  chondrichthyes\n",
            "drwxr-xr-x 2 root root  86016 Jan  4  2022  conodont\n",
            "drwxr-xr-x 2 root root  69632 Jan  4  2022  coral\n",
            "drwxr-xr-x 2 root root  81920 Jan  4  2022  crinoid\n",
            "drwxr-xr-x 2 root root  86016 Jan  4  2022  crocodylomorph\n",
            "drwxr-xr-x 2 root root  73728 Jan  4  2022  crustacean\n",
            "drwxr-xr-x 2 root root  77824 Jan  4  2022  echinoid\n",
            "drwxr-xr-x 2 root root  94208 Jan  4  2022  foraminifer\n",
            "drwxr-xr-x 2 root root  69632 Jan  4  2022  gastropod\n",
            "drwxr-xr-x 2 root root  77824 Jan  4  2022  graptolite\n",
            "drwxr-xr-x 2 root root  69632 Jan  4  2022  gymnosperm\n",
            "drwxr-xr-x 2 root root  90112 Jan  4  2022  insect\n",
            "drwxr-xr-x 2 root root  81920 Jan  4  2022  mammal\n",
            "drwxr-xr-x 2 root root  73728 Jan  4  2022  mammal_teeth\n",
            "drwxr-xr-x 2 root root  77824 Jan  4  2022  marine_reptile\n",
            "drwxr-xr-x 2 root root  81920 Jan  4  2022  myriapod\n",
            "drwxr-xr-x 2 root root  77824 Jan  4  2022  nautiloid\n",
            "drwxr-xr-x 2 root root  86016 Jan  4  2022  ophiuroid\n",
            "drwxr-xr-x 2 root root  86016 Jan  4  2022  ornithischian\n",
            "drwxr-xr-x 2 root root  69632 Jan  4  2022  osteichthyes\n",
            "drwxr-xr-x 2 root root  94208 Jan  4  2022  ostracod\n",
            "drwxr-xr-x 2 root root  69632 Jan  4  2022  petrified_wood\n",
            "drwxr-xr-x 2 root root  81920 Jan  4  2022  placoderms\n",
            "drwxr-xr-x 2 root root  69632 Jan  4  2022  pteridophyte\n",
            "drwxr-xr-x 2 root root  77824 Jan  4  2022  pterosaurs\n",
            "drwxr-xr-x 2 root root 110592 Jan  4  2022  radiolarian\n",
            "drwxr-xr-x 2 root root  65536 Jan  4  2022  reptile_teeth\n",
            "drwxr-xr-x 2 root root  73728 Jan  4  2022  sauropodomorph\n",
            "drwxr-xr-x 2 root root  69632 Jan  4  2022  shark_teeth\n",
            "drwxr-xr-x 2 root root  36864 Jan  4  2022  snake\n",
            "drwxr-xr-x 2 root root  73728 Jan  4  2022  sponge\n",
            "drwxr-xr-x 2 root root 106496 Jan  4  2022  spore_or_pollen\n",
            "drwxr-xr-x 2 root root  90112 Jan  4  2022  starfish\n",
            "drwxr-xr-x 2 root root  69632 Jan  4  2022  stromatolite\n",
            "-rw-r--r-- 1 root root  16067 Jan  8  2022 'Terms of access.docx'\n",
            "drwxr-xr-x 2 root root  81920 Jan  4  2022  theropod\n",
            "drwxr-xr-x 2 root root  73728 Jan  4  2022  trace_fossil\n",
            "drwxr-xr-x 2 root root  69632 Jan  4  2022  trilobite\n",
            "drwxr-xr-x 2 root root  77824 Jan  4  2022  turtle\n"
          ]
        }
      ]
    },
    {
      "cell_type": "code",
      "source": [
        "# --- Configuration ---\n",
        "# Assuming 'reduced-FID' is directly in the Colab environment's root\n",
        "DATASET_ROOT = './reduced-FID' # Changed to local path"
      ],
      "metadata": {
        "id": "oBD2-Ij-a8Ba"
      },
      "execution_count": null,
      "outputs": []
    },
    {
      "cell_type": "markdown",
      "metadata": {
        "id": "static-ammonoid-title"
      },
      "source": [
        "## Ammonoid"
      ]
    },
    {
      "cell_type": "code",
      "source": [
        "display(Image(filename=os.path.join(DATASET_ROOT, 'ammonoid', '001_1.jpg'), width=400))"
      ],
      "metadata": {
        "id": "static-ammonoid-image"
      },
      "execution_count": null,
      "outputs": []
    },
    {
      "cell_type": "markdown",
      "metadata": {
        "id": "static-theropod-title"
      },
      "source": [
        "## Theropod"
      ]
    },
    {
      "cell_type": "code",
      "source": [
        "display(Image(filename=os.path.join(DATASET_ROOT, 'theropod', '001ec949fb1b0f3b1c0808.jpg'), width=400))"
      ],
      "metadata": {
        "id": "static-theropod-image"
      },
      "execution_count": null,
      "outputs": []
    },
    {
      "cell_type": "markdown",
      "metadata": {
        "id": "static-trilobite-title"
      },
      "source": [
        "## Trilobite"
      ]
    },
    {
      "cell_type": "code",
      "source": [
        "display(Image(filename=os.path.join(DATASET_ROOT, 'trilobite', '000061.jpg'), width=400))"
      ],
      "metadata": {
        "id": "static-trilobite-image"
      },
      "execution_count": null,
      "outputs": []
    }
  ]
}